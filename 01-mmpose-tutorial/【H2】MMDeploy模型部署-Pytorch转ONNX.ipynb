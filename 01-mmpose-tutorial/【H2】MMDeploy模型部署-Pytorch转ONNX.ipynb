{
 "cells": [
  {
   "cell_type": "markdown",
   "id": "4b326cca-5aac-4011-97e8-9581b4224dda",
   "metadata": {},
   "source": [
    "# MMDeploy模型部署-Pytorch转ONNX"
   ]
  },
  {
   "cell_type": "markdown",
   "id": "af6c6749-3a74-4e8f-a379-11451509d2cc",
   "metadata": {},
   "source": [
    "## 进入MMDeploy主目录"
   ]
  },
  {
   "cell_type": "code",
   "execution_count": null,
   "id": "22fea16b-0d4e-4734-9379-c8f3a4045222",
   "metadata": {},
   "outputs": [],
   "source": [
    "import os\n",
    "os.chdir('mmdeploy')"
   ]
  },
  {
   "cell_type": "markdown",
   "id": "6fabd6ff-4c86-4798-888e-1c28c64e37a5",
   "metadata": {},
   "source": [
    "## 三角板目标检测模型"
   ]
  },
  {
   "cell_type": "code",
   "execution_count": null,
   "id": "5d97d93a-1014-48b7-b1e8-92176e594970",
   "metadata": {},
   "outputs": [],
   "source": [
    "!python tools/deploy.py \\\n",
    "        configs/mmdet/detection/detection_onnxruntime_dynamic.py \\\n",
    "        ../mmdetection/data/rtmdet_tiny_triangle.py \\\n",
    "        ../mmdetection/checkpoint/rtmdet_tiny_triangle_epoch_200_202305120847-3cd02a8f.pth \\\n",
    "        ../mmdetection/data/test_triangle/triangle_3.jpg \\\n",
    "        --work-dir ../rtmdet2onnx \\\n",
    "        --dump-info"
   ]
  },
  {
   "cell_type": "markdown",
   "id": "98bddb5d-7252-40a7-9649-ff466ced4a79",
   "metadata": {},
   "source": [
    "## 三角板关键点检测模型"
   ]
  },
  {
   "cell_type": "markdown",
   "id": "fdc5f3a7-33ef-44c1-9367-6fb85828bfa3",
   "metadata": {},
   "source": [
    "将`mmdeploy/configs/mmpose/pose-detection_simcc_onnxruntime_dynamic.py`中的`input_shape`修改为关键点检测模型的输入图像尺寸"
   ]
  },
  {
   "cell_type": "code",
   "execution_count": null,
   "id": "10b35d20-514f-4db9-806c-43acb7c514d7",
   "metadata": {},
   "outputs": [],
   "source": [
    "!python tools/deploy.py \\\n",
    "        configs/mmpose/pose-detection_simcc_onnxruntime_dynamic.py \\\n",
    "        ../mmpose/data/rtmpose-s_triangle_8xb256-420e_coco-256x192.py \\\n",
    "        ../mmpose/checkpoint/rtmpose_s_triangle_300-34bfaeb2_20230512.pth \\\n",
    "        ../mmpose/data/test_triangle/triangle_3.jpg \\\n",
    "        --work-dir ../rtmpose2onnx \\\n",
    "        --dump-info"
   ]
  },
  {
   "cell_type": "code",
   "execution_count": null,
   "id": "f674eb4a-0d4d-4805-9d78-49ebc25deee3",
   "metadata": {},
   "outputs": [],
   "source": []
  }
 ],
 "metadata": {
  "kernelspec": {
   "display_name": "Python 3 (ipykernel)",
   "language": "python",
   "name": "python3"
  },
  "language_info": {
   "codemirror_mode": {
    "name": "ipython",
    "version": 3
   },
   "file_extension": ".py",
   "mimetype": "text/x-python",
   "name": "python",
   "nbconvert_exporter": "python",
   "pygments_lexer": "ipython3",
   "version": "3.7.10"
  }
 },
 "nbformat": 4,
 "nbformat_minor": 5
}
