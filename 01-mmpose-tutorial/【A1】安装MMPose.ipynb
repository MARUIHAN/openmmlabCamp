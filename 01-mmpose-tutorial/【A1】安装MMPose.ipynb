{
 "cells": [
  {
   "cell_type": "markdown",
   "id": "bc3d1961-9081-49c9-be56-ad0c748decf1",
   "metadata": {},
   "source": [
    "# 安装MMPose"
   ]
  },
  {
   "cell_type": "markdown",
   "id": "0fc8ebd8-db6e-4a17-895f-2f87fc98ca79",
   "metadata": {},
   "source": [
    "按照顺序逐行运行本代码，即可安装配置 MMPose 环境\n",
    "\n",
    "推荐代码运行[云GPU环境](https://featurize.cn?s=d7ce99f842414bfcaea5662a97581bd1)：GPU RTX 3060、CUDA v11.2\n",
    "\n",
    "作者：同济子豪兄 2023-3-31"
   ]
  },
  {
   "cell_type": "markdown",
   "id": "63d0dc47-4601-49a3-8d25-12b4d24fa6f0",
   "metadata": {},
   "source": [
    "> 提示：以下代码运行时，若长时间运行卡着不动，可重启 kernel 后重新运行一遍"
   ]
  },
  {
   "cell_type": "markdown",
   "id": "6fc1c686-1267-4503-b9e4-bcb188a7f974",
   "metadata": {
    "tags": []
   },
   "source": [
    "## 安装Pytorch"
   ]
  },
  {
   "cell_type": "code",
   "execution_count": 2,
   "id": "2fef57fc-d5f0-4cd0-a134-1f025c15439f",
   "metadata": {},
   "outputs": [],
   "source": [
    "# 安装 Pytorch\n",
    "!pip3 install install torch==1.10.1+cu113 torchvision==0.11.2+cu113 torchaudio==0.10.1+cu113 -f https://download.pytorch.org/whl/cu113/torch_stable.html\n"
   ]
  },
  {
   "cell_type": "markdown",
   "id": "054b64e4-4796-4136-b45e-3664b281cf30",
   "metadata": {},
   "source": [
    "## 用MIM安装MMCV"
   ]
  },
  {
   "cell_type": "code",
   "execution_count": 13,
   "id": "83b1c9e3-0d69-423d-a8a2-172d18dfdb33",
   "metadata": {},
   "outputs": [],
   "source": [
    "!pip install -U openmim\n",
    "!mim install mmengine\n",
    "!mim install 'mmcv==2.0.0rc3'\n",
    "!mim install \"mmdet>=3.0.0rc6\""
   ]
  },
  {
   "cell_type": "markdown",
   "id": "38c55520-071b-41de-91f4-3ec78e16bf27",
   "metadata": {},
   "source": [
    "## 安装其它工具包"
   ]
  },
  {
   "cell_type": "code",
   "execution_count": 14,
   "id": "eb4b3373-f117-46a9-ab43-e67753eb7c61",
   "metadata": {},
   "outputs": [],
   "source": [
    "!pip install opencv-python pillow matplotlib seaborn tqdm pycocotools -i https://pypi.tuna.tsinghua.edu.cn/simple\n"
   ]
  },
  {
   "cell_type": "markdown",
   "id": "0defb2f8-d5ab-4ee4-a66f-85cc17c221de",
   "metadata": {
    "tags": []
   },
   "source": [
    "## 下载 MMPose"
   ]
  },
  {
   "cell_type": "code",
   "execution_count": 16,
   "id": "89026868-58b1-4755-aca3-ded98451e906",
   "metadata": {},
   "outputs": [],
   "source": [
    "# 删掉原有的 mmpose 文件夹（如有）\n",
    "!rm -rf mmpose"
   ]
  },
  {
   "cell_type": "code",
   "execution_count": 18,
   "id": "09c51fee-d040-46cf-8d86-c0248ab7fe84",
   "metadata": {},
   "outputs": [],
   "source": [
    "# 从 github 上下载最新的 mmpose 源代码\n",
    "!git clone https://github.com/open-mmlab/mmpose.git -b tutorial2023"
   ]
  },
  {
   "cell_type": "code",
   "execution_count": 10,
   "id": "b6a71270-f87b-4cf3-87f0-771f45f38c28",
   "metadata": {},
   "outputs": [],
   "source": [
    "# 进入主目录\n",
    "import os\n",
    "os.chdir('mmpose')"
   ]
  },
  {
   "cell_type": "markdown",
   "id": "f1cd1922-e20a-459a-bf45-e826d8245d88",
   "metadata": {},
   "source": [
    "## 安装 MMPose"
   ]
  },
  {
   "cell_type": "code",
   "execution_count": 21,
   "id": "21e78bae-1d33-478d-8b72-5e8584f6cadf",
   "metadata": {},
   "outputs": [],
   "source": [
    "!mim install -e ."
   ]
  },
  {
   "cell_type": "markdown",
   "id": "a828bfe4-82e5-497a-9bda-cb9837df2cb3",
   "metadata": {},
   "source": [
    "## 下载预训练模型权重文件和视频素材"
   ]
  },
  {
   "cell_type": "code",
   "execution_count": 11,
   "id": "5aac1d0c-dbf5-478c-ab80-7e2aa0ab0f01",
   "metadata": {},
   "outputs": [],
   "source": [
    "import os\n",
    "\n",
    "# 创建 checkpoint 文件夹，用于存放预训练模型权重文件\n",
    "os.mkdir('checkpoint')\n",
    "\n",
    "# 创建 outputs 文件夹，用于存放预测结果\n",
    "os.mkdir('outputs')\n",
    "\n",
    "# 创建 data 文件夹，用于存放图片和视频素材\n",
    "os.mkdir('data')\n",
    "\n",
    "os.mkdir('data/test')"
   ]
  },
  {
   "cell_type": "code",
   "execution_count": 12,
   "id": "bae3b8b0-07a2-4a79-83cf-42276ea1c9ef",
   "metadata": {},
   "outputs": [
    {
     "name": "stdout",
     "output_type": "stream",
     "text": [
      "--2023-06-02 15:06:26--  https://zihao-openmmlab.obs.cn-east-3.myhuaweicloud.com/20220610-mmpose/images/multi-person.jpeg\n",
      "Resolving zihao-openmmlab.obs.cn-east-3.myhuaweicloud.com (zihao-openmmlab.obs.cn-east-3.myhuaweicloud.com)... 121.36.235.132\n",
      "Connecting to zihao-openmmlab.obs.cn-east-3.myhuaweicloud.com (zihao-openmmlab.obs.cn-east-3.myhuaweicloud.com)|121.36.235.132|:443... connected.\n",
      "HTTP request sent, awaiting response... 200 OK\n",
      "Length: 604280 (590K) [image/jpeg]\n",
      "Saving to: ‘data/test/multi-person.jpeg’\n",
      "\n",
      "data/test/multi-per 100%[===================>] 590.12K  --.-KB/s    in 0.06s   \n",
      "\n",
      "2023-06-02 15:06:27 (10.1 MB/s) - ‘data/test/multi-person.jpeg’ saved [604280/604280]\n",
      "\n",
      "--2023-06-02 15:06:28--  https://zihao-openmmlab.obs.myhuaweicloud.com/20220610-mmpose/videos/cxk.mp4\n",
      "Resolving zihao-openmmlab.obs.myhuaweicloud.com (zihao-openmmlab.obs.myhuaweicloud.com)... 121.36.235.132\n",
      "Connecting to zihao-openmmlab.obs.myhuaweicloud.com (zihao-openmmlab.obs.myhuaweicloud.com)|121.36.235.132|:443... connected.\n",
      "HTTP request sent, awaiting response... 200 OK\n",
      "Length: 5535528 (5.3M) [video/mp4]\n",
      "Saving to: ‘data/test/cxk.mp4’\n",
      "\n",
      "cxk.mp4             100%[===================>]   5.28M  22.2MB/s    in 0.2s    \n",
      "\n",
      "2023-06-02 15:06:28 (22.2 MB/s) - ‘data/test/cxk.mp4’ saved [5535528/5535528]\n",
      "\n",
      "--2023-06-02 15:06:29--  https://zihao-openmmlab.obs.myhuaweicloud.com/20220610-mmpose/videos/mother_wx.mp4\n",
      "Resolving zihao-openmmlab.obs.myhuaweicloud.com (zihao-openmmlab.obs.myhuaweicloud.com)... 121.36.235.132\n",
      "Connecting to zihao-openmmlab.obs.myhuaweicloud.com (zihao-openmmlab.obs.myhuaweicloud.com)|121.36.235.132|:443... connected.\n",
      "HTTP request sent, awaiting response... 200 OK\n",
      "Length: 402665 (393K) [video/mp4]\n",
      "Saving to: ‘data/test/mother_wx.mp4’\n",
      "\n",
      "mother_wx.mp4       100%[===================>] 393.23K  --.-KB/s    in 0.05s   \n",
      "\n",
      "2023-06-02 15:06:30 (7.13 MB/s) - ‘data/test/mother_wx.mp4’ saved [402665/402665]\n",
      "\n",
      "--2023-06-02 15:06:31--  https://zihao-openmmlab.obs.cn-east-3.myhuaweicloud.com/20220610-mmpose/videos/two-girls.mp4\n",
      "Resolving zihao-openmmlab.obs.cn-east-3.myhuaweicloud.com (zihao-openmmlab.obs.cn-east-3.myhuaweicloud.com)... 121.36.235.132\n",
      "Connecting to zihao-openmmlab.obs.cn-east-3.myhuaweicloud.com (zihao-openmmlab.obs.cn-east-3.myhuaweicloud.com)|121.36.235.132|:443... connected.\n",
      "HTTP request sent, awaiting response... 200 OK\n",
      "Length: 44217475 (42M) [video/mp4]\n",
      "Saving to: ‘data/test/two-girls.mp4’\n",
      "\n",
      "data/test/two-girls 100%[===================>]  42.17M  34.5MB/s    in 1.2s    \n",
      "\n",
      "2023-06-02 15:06:32 (34.5 MB/s) - ‘data/test/two-girls.mp4’ saved [44217475/44217475]\n",
      "\n"
     ]
    }
   ],
   "source": [
    "# 多人图片，来源：https://www.pexels.com/zh-cn/photo/2168292/\n",
    "!wget https://zihao-openmmlab.obs.cn-east-3.myhuaweicloud.com/20220610-mmpose/images/multi-person.jpeg -O data/test/multi-person.jpeg\n",
    "\n",
    "# 单人视频-唱跳篮球 \n",
    "!wget https://zihao-openmmlab.obs.myhuaweicloud.com/20220610-mmpose/videos/cxk.mp4 -P data/test\n",
    "\n",
    "# 妈妈和女儿跳舞，经微信压缩\n",
    "!wget https://zihao-openmmlab.obs.myhuaweicloud.com/20220610-mmpose/videos/mother_wx.mp4 -P data/test\n",
    "\n",
    "# 两个女生跳舞视频，来源：https://mixkit.co/free-stock-video/two-girls-having-fun-in-a-retro-restaurant-42298/\n",
    "!wget https://zihao-openmmlab.obs.cn-east-3.myhuaweicloud.com/20220610-mmpose/videos/two-girls.mp4 -O data/test/two-girls.mp4"
   ]
  },
  {
   "cell_type": "markdown",
   "id": "fa97e1da-f245-4d32-892d-dec07a6b2c16",
   "metadata": {},
   "source": [
    "## 检查安装成功"
   ]
  },
  {
   "cell_type": "code",
   "execution_count": 6,
   "id": "424fca02-13cc-493f-8833-ec63900f02d3",
   "metadata": {},
   "outputs": [
    {
     "name": "stdout",
     "output_type": "stream",
     "text": [
      "Pytorch 版本 1.12.1+cu116\n",
      "CUDA 是否可用 True\n"
     ]
    }
   ],
   "source": [
    "# 检查 Pytorch\n",
    "import torch, torchvision\n",
    "print('Pytorch 版本', torch.__version__)\n",
    "print('CUDA 是否可用',torch.cuda.is_available())"
   ]
  },
  {
   "cell_type": "code",
   "execution_count": 7,
   "id": "96a6e738-d9d3-4e9f-a053-15bf2f29d43b",
   "metadata": {},
   "outputs": [
    {
     "name": "stdout",
     "output_type": "stream",
     "text": [
      "MMCV版本 2.0.0\n",
      "CUDA版本 11.6\n",
      "编译器版本 GCC 9.3\n"
     ]
    }
   ],
   "source": [
    "# 检查 mmcv\n",
    "import mmcv\n",
    "from mmcv.ops import get_compiling_cuda_version, get_compiler_version\n",
    "print('MMCV版本', mmcv.__version__)\n",
    "print('CUDA版本', get_compiling_cuda_version())\n",
    "print('编译器版本', get_compiler_version())"
   ]
  },
  {
   "cell_type": "code",
   "execution_count": 9,
   "id": "dae8b28c-fa1f-4911-ba27-50ed745e9679",
   "metadata": {},
   "outputs": [],
   "source": [
    "# 检查 mmpose\n",
    "import mmpose\n",
    "# print('mmpose版本', mmpose.__version__)"
   ]
  },
  {
   "cell_type": "markdown",
   "id": "6f89f196-6f70-46a5-9715-ee4755717c13",
   "metadata": {},
   "source": [
    "没有报错，即证明安装成功。"
   ]
  },
  {
   "cell_type": "code",
   "execution_count": null,
   "id": "90954e26-49ee-42ad-b2ff-7514e8542db4",
   "metadata": {},
   "outputs": [],
   "source": []
  }
 ],
 "metadata": {
  "kernelspec": {
   "display_name": "myconda",
   "language": "python",
   "name": "myconda"
  },
  "language_info": {
   "codemirror_mode": {
    "name": "ipython",
    "version": 3
   },
   "file_extension": ".py",
   "mimetype": "text/x-python",
   "name": "python",
   "nbconvert_exporter": "python",
   "pygments_lexer": "ipython3",
   "version": "3.8.15"
  }
 },
 "nbformat": 4,
 "nbformat_minor": 5
}
