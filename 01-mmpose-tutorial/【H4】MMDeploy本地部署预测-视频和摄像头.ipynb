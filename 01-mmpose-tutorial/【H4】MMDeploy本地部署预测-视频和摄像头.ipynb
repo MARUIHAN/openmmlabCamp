{
 "cells": [
  {
   "cell_type": "markdown",
   "id": "e52bb063-4e86-45bf-9ea0-fb590e12e5db",
   "metadata": {},
   "source": [
    "# MMDeploy本地部署预测-视频和摄像头\n",
    "\n",
    "本代码教程需在本地环境运行\n",
    "\n",
    "同济子豪兄 2023-5-12\n",
    "\n",
    "特别感谢 MMDeploy 陈鑫：https://github.com/irexyc"
   ]
  },
  {
   "cell_type": "markdown",
   "id": "d6f71568-a4d0-4fce-a712-a83a0fa7d590",
   "metadata": {},
   "source": [
    "## 视频文件预测"
   ]
  },
  {
   "cell_type": "code",
   "execution_count": null,
   "id": "ffcaed08-6caa-48ab-913d-adc3c41644c3",
   "metadata": {},
   "outputs": [],
   "source": [
    "!wget https://zihao-openmmlab.obs.myhuaweicloud.com/20220610-mmpose/triangle_dataset/videos/triangle_9.mp4"
   ]
  },
  {
   "cell_type": "code",
   "execution_count": 9,
   "id": "7a137558-b36c-4ba5-91fc-5027a2df7677",
   "metadata": {},
   "outputs": [],
   "source": [
    "!python triangle_mmdeploy.py rtmdet2onnx rtmpose2onnx --file mmpose/data/test_triangle/triangle_9.mp4"
   ]
  },
  {
   "cell_type": "markdown",
   "id": "deec1bb7-54cb-4966-b4c7-9ba748dd1ce5",
   "metadata": {},
   "source": [
    "## 摄像头实时预测"
   ]
  },
  {
   "cell_type": "code",
   "execution_count": 7,
   "id": "4005f07f-6fc7-4880-902d-adfccdee207b",
   "metadata": {},
   "outputs": [],
   "source": [
    "!python triangle_mmdeploy.py rtmdet2onnx rtmpose2onnx"
   ]
  },
  {
   "cell_type": "code",
   "execution_count": null,
   "id": "2cecac14-52e1-4c9b-b3e5-079328ff9a5e",
   "metadata": {},
   "outputs": [],
   "source": []
  }
 ],
 "metadata": {
  "kernelspec": {
   "display_name": "Python 3 (ipykernel)",
   "language": "python",
   "name": "python3"
  },
  "language_info": {
   "codemirror_mode": {
    "name": "ipython",
    "version": 3
   },
   "file_extension": ".py",
   "mimetype": "text/x-python",
   "name": "python",
   "nbconvert_exporter": "python",
   "pygments_lexer": "ipython3",
   "version": "3.7.10"
  }
 },
 "nbformat": 4,
 "nbformat_minor": 5
}
