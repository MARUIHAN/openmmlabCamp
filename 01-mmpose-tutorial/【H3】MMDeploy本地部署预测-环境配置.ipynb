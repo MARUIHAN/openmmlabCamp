{
 "cells": [
  {
   "cell_type": "markdown",
   "id": "6da8d1fb-60f6-477c-ab2b-088cbc632c77",
   "metadata": {},
   "source": [
    "# MMDeploy本地部署预测-环境配置\n",
    "\n",
    "本代码教程需在本地环境运行\n",
    "\n",
    "同济子豪兄 2023-5-12\n",
    "\n",
    "特别感谢 MMDeploy 陈鑫：https://github.com/irexyc"
   ]
  },
  {
   "cell_type": "markdown",
   "id": "8bd4f15d-9a44-4ef0-b496-7db65d7cc4fe",
   "metadata": {},
   "source": [
    "## 下载安装Python\n",
    "\n",
    "建议Python 3.6 至 Python 3.10"
   ]
  },
  {
   "cell_type": "markdown",
   "id": "31074358-4089-4ad8-b602-848e517ec4ff",
   "metadata": {
    "tags": []
   },
   "source": [
    "## 安装推理后端"
   ]
  },
  {
   "cell_type": "code",
   "execution_count": null,
   "id": "7c2647d2-56cc-42b5-94da-66cc753c0e09",
   "metadata": {},
   "outputs": [],
   "source": [
    "# 没有 GPU\n",
    "!pip install mmdeploy-runtime==1.0.0"
   ]
  },
  {
   "cell_type": "code",
   "execution_count": null,
   "id": "1464235e-f0b9-4cbc-8a98-012ff27889a7",
   "metadata": {},
   "outputs": [],
   "source": [
    "# 有 GPU\n",
    "# !pip install mmdeploy-runtime-gpu==1.0.0"
   ]
  },
  {
   "cell_type": "markdown",
   "id": "5e963096-6ef0-4cf7-9743-2a6ef35e11fc",
   "metadata": {},
   "source": [
    "## 下载推理预测脚本"
   ]
  },
  {
   "cell_type": "code",
   "execution_count": 3,
   "id": "8001a8c2-58fd-4c82-b059-d9457e8e3f88",
   "metadata": {},
   "outputs": [],
   "source": [
    "!rm -rf triangle_mmdeploy.py\n",
    "!wget https://zihao-openmmlab.obs.cn-east-3.myhuaweicloud.com/20220610-mmpose/triangle_dataset/webcam/triangle_mmdeploy.py"
   ]
  },
  {
   "cell_type": "code",
   "execution_count": null,
   "id": "116303ca-1fca-45db-ab5d-073a7be581e6",
   "metadata": {},
   "outputs": [],
   "source": []
  }
 ],
 "metadata": {
  "kernelspec": {
   "display_name": "Python 3 (ipykernel)",
   "language": "python",
   "name": "python3"
  },
  "language_info": {
   "codemirror_mode": {
    "name": "ipython",
    "version": 3
   },
   "file_extension": ".py",
   "mimetype": "text/x-python",
   "name": "python",
   "nbconvert_exporter": "python",
   "pygments_lexer": "ipython3",
   "version": "3.7.10"
  }
 },
 "nbformat": 4,
 "nbformat_minor": 5
}
