{
 "cells": [
  {
   "cell_type": "markdown",
   "id": "97535c77",
   "metadata": {},
   "source": [
    "# 三角板关键点检测-下载config配置文件和checkpoint模型权重文件\n",
    "\n",
    "同济子豪兄 2023-4-6"
   ]
  },
  {
   "cell_type": "markdown",
   "id": "545f5adb",
   "metadata": {},
   "source": [
    "## 进入mmpose主目录"
   ]
  },
  {
   "cell_type": "code",
   "execution_count": null,
   "id": "871a6dd7",
   "metadata": {},
   "outputs": [],
   "source": [
    "import os\n",
    "os.chdir('mmpose')"
   ]
  },
  {
   "cell_type": "markdown",
   "id": "342a1c23",
   "metadata": {},
   "source": [
    "## 下载config配置文件至`data`目录"
   ]
  },
  {
   "cell_type": "code",
   "execution_count": null,
   "id": "f888e228",
   "metadata": {},
   "outputs": [],
   "source": [
    "# RTMPose-S 三角板关键点检测\n",
    "!rm -rf data/rtmpose-s_triangle_8xb256-420e_coco-256x192.py\n",
    "!wget https://zihao-openmmlab.obs.myhuaweicloud.com/20220610-mmpose/triangle_dataset/rtmpose-s_triangle_8xb256-420e_coco-256x192.py -P data\n"
   ]
  },
  {
   "cell_type": "markdown",
   "id": "325a5e88",
   "metadata": {},
   "source": [
    "## 下载模型权重文件至`checkpoint`目录"
   ]
  },
  {
   "cell_type": "code",
   "execution_count": null,
   "id": "bdf07622",
   "metadata": {},
   "outputs": [],
   "source": [
    "# RTMDet-S 三角板关键点检测\n",
    "!rm -rf checkpoint/rtmpose_s_triangle_300-34bfaeb2_20230512.pth\n",
    "!wget https://zihao-openmmlab.obs.cn-east-3.myhuaweicloud.com/20220610-mmpose/triangle_dataset/ckpt/0512/rtmpose_s_triangle_300-34bfaeb2_20230512.pth -P checkpoint\n"
   ]
  },
  {
   "cell_type": "code",
   "execution_count": null,
   "id": "7bb040a4",
   "metadata": {},
   "outputs": [],
   "source": []
  }
 ],
 "metadata": {
  "kernelspec": {
   "display_name": "Python 3 (ipykernel)",
   "language": "python",
   "name": "python3"
  },
  "language_info": {
   "codemirror_mode": {
    "name": "ipython",
    "version": 3
   },
   "file_extension": ".py",
   "mimetype": "text/x-python",
   "name": "python",
   "nbconvert_exporter": "python",
   "pygments_lexer": "ipython3",
   "version": "3.7.12"
  }
 },
 "nbformat": 4,
 "nbformat_minor": 5
}
