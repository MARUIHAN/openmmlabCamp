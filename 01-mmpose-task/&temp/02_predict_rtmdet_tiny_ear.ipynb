{
 "cells": [
  {
   "cell_type": "markdown",
   "id": "a43bf5e9-7833-48d8-8a82-585d32578722",
   "metadata": {},
   "source": [
    "# 进入mmpose"
   ]
  },
  {
   "cell_type": "code",
   "execution_count": 2,
   "id": "05a9b083-a15c-4081-9cd4-cfab81f15490",
   "metadata": {},
   "outputs": [],
   "source": [
    "import os\n",
    "os.chdir('mmpose')"
   ]
  },
  {
   "cell_type": "code",
   "execution_count": 3,
   "id": "d021c908-eef8-4256-98ef-b1b902b46d4b",
   "metadata": {},
   "outputs": [
    {
     "data": {
      "text/plain": [
       "'/mnt/openmmlab-Camp/01-mmpose-task/mmpose'"
      ]
     },
     "execution_count": 3,
     "metadata": {},
     "output_type": "execute_result"
    }
   ],
   "source": [
    "os.getcwd()"
   ]
  },
  {
   "cell_type": "markdown",
   "id": "dac552c1-9415-4858-a25b-674697fb63f8",
   "metadata": {},
   "source": [
    "# 预测单张图片-自己的耳朵"
   ]
  },
  {
   "cell_type": "code",
   "execution_count": 8,
   "id": "2fac3b6e-0eff-417a-aca9-80d183c5034f",
   "metadata": {},
   "outputs": [
    {
     "name": "stdout",
     "output_type": "stream",
     "text": [
      "Loads checkpoint by local backend from path: work_dirs/rtmdet_tiny_ear/best_coco_bbox_mAP_epoch_80.pth\n",
      "Traceback (most recent call last):\n",
      "  File \"/root/miniconda3/envs/myconda/lib/python3.8/site-packages/mmengine/registry/build_functions.py\", line 120, in build_from_cfg\n",
      "    obj = obj_cls.get_instance(**args)  # type: ignore\n",
      "  File \"/root/miniconda3/envs/myconda/lib/python3.8/site-packages/mmengine/visualization/visualizer.py\", line 1181, in get_instance\n",
      "    instance = super().get_instance(name, **kwargs)\n",
      "  File \"/root/miniconda3/envs/myconda/lib/python3.8/site-packages/mmengine/utils/manager.py\", line 110, in get_instance\n",
      "    instance = cls(name=name, **kwargs)  # type: ignore\n",
      "TypeError: __init__() got an unexpected keyword argument 'radius'\n",
      "\n",
      "During handling of the above exception, another exception occurred:\n",
      "\n",
      "Traceback (most recent call last):\n",
      "  File \"demo/image_demo.py\", line 105, in <module>\n",
      "    main()\n",
      "  File \"demo/image_demo.py\", line 80, in main\n",
      "    visualizer = VISUALIZERS.build(model.cfg.visualizer)\n",
      "  File \"/root/miniconda3/envs/myconda/lib/python3.8/site-packages/mmengine/registry/registry.py\", line 548, in build\n",
      "    return self.build_func(cfg, *args, **kwargs, registry=self)\n",
      "  File \"/root/miniconda3/envs/myconda/lib/python3.8/site-packages/mmengine/registry/build_functions.py\", line 144, in build_from_cfg\n",
      "    raise type(e)(\n",
      "TypeError: class `DetLocalVisualizer` in mmdet/visualization/local_visualizer.py: __init__() got an unexpected keyword argument 'radius'\n"
     ]
    }
   ],
   "source": [
    "# rtmdet_tiny\n",
    "!/root/miniconda3/envs/myconda/bin/python demo/image_demo.py \\\n",
    "        mydata/my_ear.jpg \\\n",
    "        MMPoseHomework/configs/rtmdet_tiny_ear.py \\\n",
    "        work_dirs/rtmdet_tiny_ear/best_coco_bbox_mAP_epoch_80.pth \\\n",
    "        --out-file outputs/rtm_tiny \\\n",
    "        --device cuda:0 "
   ]
  },
  {
   "cell_type": "markdown",
   "id": "a7d9af5e-09f5-4a9a-b874-319385ad2a56",
   "metadata": {},
   "source": [
    "- 报错原因：\n",
    "   因为这个之前训练rtmdet时进入的mmpose目录下训得，应该是进入mmdetection，因为这是目标检测算法。只能重新训，确保是进入mmdetection训\n"
   ]
  },
  {
   "cell_type": "markdown",
   "id": "54b43a12-b9ec-48a8-8ce3-278691097fb4",
   "metadata": {},
   "source": [
    "# 预测视频-自己的耳朵"
   ]
  },
  {
   "cell_type": "code",
   "execution_count": null,
   "id": "51971b4b-abfc-45dd-9428-0efe0d049a1d",
   "metadata": {},
   "outputs": [],
   "source": [
    "# !python demo/video_demo.py \\\n",
    "#         data/test_triangle/triangle_9.mp4 \\\n",
    "#         data/faster_r_cnn_triangle.py \\\n",
    "#         checkpoint/faster_r_cnn_triangle_epoch_50_202305120846-76d9dde3.pth \\\n",
    "#         --device cuda:0 \\\n",
    "#         --score-thr 0.96 \\\n",
    "#         --out outputs/E2_out_video_faster_r_cnn.mp4"
   ]
  }
 ],
 "metadata": {
  "kernelspec": {
   "display_name": "myconda",
   "language": "python",
   "name": "myconda"
  },
  "language_info": {
   "codemirror_mode": {
    "name": "ipython",
    "version": 3
   },
   "file_extension": ".py",
   "mimetype": "text/x-python",
   "name": "python",
   "nbconvert_exporter": "python",
   "pygments_lexer": "ipython3",
   "version": "3.8.15"
  }
 },
 "nbformat": 4,
 "nbformat_minor": 5
}
